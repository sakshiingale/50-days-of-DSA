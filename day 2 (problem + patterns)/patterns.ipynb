{
  "nbformat": 4,
  "nbformat_minor": 0,
  "metadata": {
    "colab": {
      "provenance": []
    },
    "kernelspec": {
      "name": "python3",
      "display_name": "Python 3"
    },
    "language_info": {
      "name": "python"
    }
  },
  "cells": [
    {
      "cell_type": "code",
      "execution_count": 2,
      "metadata": {
        "colab": {
          "base_uri": "https://localhost:8080/"
        },
        "id": "U_WDSU1d1ArZ",
        "outputId": "75ab0028-ceca-484c-abd9-8c550e5687d0"
      },
      "outputs": [
        {
          "output_type": "stream",
          "name": "stdout",
          "text": [
            "['***', '***', '***']\n"
          ]
        }
      ],
      "source": [
        "\n",
        "def generate_square(n):\n",
        "    square = []\n",
        "    for i in range(n):\n",
        "        square.append('*'*n)\n",
        "    return square\n",
        "\n",
        "\n",
        "print (generate_square(3))"
      ]
    },
    {
      "cell_type": "code",
      "source": [
        "\n",
        "def generate_hollow_square(n):\n",
        "    square = []\n",
        "\n",
        "    if n == 1:\n",
        "        return ['*']\n",
        "\n",
        "    # The first and last rows are full of '*'\n",
        "    square.append('*' * n)  # First row\n",
        "\n",
        "    # For the middle rows, the first and last characters are '*', rest are spaces\n",
        "    for i in range(n - 2):\n",
        "        square.append('*' + ' ' * (n - 2) + '*')\n",
        "\n",
        "    # The last row is also full of '*'\n",
        "    square.append('*' * n)  # Last row\n",
        "\n",
        "    return square"
      ],
      "metadata": {
        "id": "MCQlAr_D2FKC"
      },
      "execution_count": 3,
      "outputs": []
    },
    {
      "cell_type": "code",
      "source": [
        "def generate_rectangle(n, m):\n",
        "    \"\"\"\n",
        "    Function to return a rectangle pattern of '*' with length n and breadth m as a list of strings.\n",
        "\n",
        "    Parameters:\n",
        "    n (int): The number of rows in the rectangle.\n",
        "    m (int): The number of columns in the rectangle.\n",
        "\n",
        "    Returns:\n",
        "    list: A list of strings where each string represents a row of the rectangle pattern.\n",
        "    \"\"\"\n",
        "\n",
        "    rectangle= []\n",
        "    for i in range(n):\n",
        "        row= '*' * m\n",
        "        rectangle.append(row)\n",
        "    return rectangle\n"
      ],
      "metadata": {
        "id": "yiGDISFp2FWN"
      },
      "execution_count": 4,
      "outputs": []
    },
    {
      "cell_type": "code",
      "source": [
        "def generate_triangle(n):\n",
        "    \"\"\"\n",
        "    Function to return a right-angled triangle of '*' of side n as a list of strings.\n",
        "\n",
        "    Parameters:\n",
        "    n (int): The height and base of the triangle.\n",
        "\n",
        "    Returns:\n",
        "    list: A list of strings where each string represents a row of the triangle.\n",
        "    \"\"\"\n",
        "    triangle= []\n",
        "    for i in range(1, n+1):\n",
        "        triangle.append('*' * i)\n",
        "    return triangle"
      ],
      "metadata": {
        "id": "BV3MGID12Fot"
      },
      "execution_count": 5,
      "outputs": []
    },
    {
      "cell_type": "code",
      "source": [
        "def generate_inverted_triangle(n):\n",
        "    \"\"\"\n",
        "    Function to return an inverted right-angled triangle of '*' of side n as a list of strings.\n",
        "\n",
        "    Parameters:\n",
        "    n (int): The height and base of the triangle.\n",
        "\n",
        "    Returns:\n",
        "    list: A list of strings where each string represents a row of the triangle.\n",
        "    \"\"\"\n",
        "    triangle= []\n",
        "    for i in range(n, 0, -1):\n",
        "        triangle.append('*' * i)\n",
        "    return triangle"
      ],
      "metadata": {
        "id": "7_zOC8zD6wWS"
      },
      "execution_count": 1,
      "outputs": []
    },
    {
      "cell_type": "code",
      "source": [
        "def generate_pyramid(n):\n",
        "    \"\"\"\n",
        "    Function to return a pyramid pattern of '*' of side n as a list of strings.\n",
        "\n",
        "    Parameters:\n",
        "    n (int): The number of rows in the pyramid.\n",
        "\n",
        "    Returns:\n",
        "    list: A list of strings where each string represents a row of the pyramid.\n",
        "    \"\"\"\n",
        "    pyramid= []\n",
        "    for i in range(1, n + 1):\n",
        "    # Number of stars in the current row is 2 * i - 1\n",
        "        stars = '*' * (2 * i - 1)\n",
        "        # Number of leading spaces to center the stars is n - i\n",
        "        spaces = ' ' * (n - i)\n",
        "        # Add the centered row to the list\n",
        "        pyramid.append(spaces + stars + spaces)\n",
        "\n",
        "    # Return the list of pyramid rows\n",
        "    return pyramid\n"
      ],
      "metadata": {
        "id": "19pX9keqpUpn"
      },
      "execution_count": 2,
      "outputs": []
    },
    {
      "cell_type": "code",
      "source": [
        "def generate_inverted_pyramid(n):\n",
        "    \"\"\"\n",
        "    Function to return an inverted pyramid pattern of '*' of side n as a list of strings.\n",
        "\n",
        "    Parameters:\n",
        "    n (int): The number of rows in the inverted pyramid.\n",
        "\n",
        "    Returns:\n",
        "    list: A list of strings where each string represents a row of the inverted pyramid.\n",
        "    \"\"\"\n",
        "    pyramid= []\n",
        "    for i in range(1, n+1):\n",
        "    # Number of stars in the current row is 2 * i - 1\n",
        "        stars = '*' * (2 * (n- i + 1) -1)\n",
        "        # Number of leading spaces to center the stars is n - i\n",
        "        spaces = ' ' * (i-1)\n",
        "        # Add the centered row to the list\n",
        "        pyramid.append(spaces + stars + spaces)\n",
        "\n",
        "    # Return the list of pyramid rows\n",
        "    return pyramid\n"
      ],
      "metadata": {
        "id": "XUlSq2M_qXRB"
      },
      "execution_count": 3,
      "outputs": []
    },
    {
      "cell_type": "code",
      "source": [
        "def generate_number_triangle(n):\n",
        "    \"\"\"\n",
        "    Function to return a right-angled triangle of repeated numbers of side n as a list of strings.\n",
        "\n",
        "    Parameters:\n",
        "    n (int): The height of the triangle.\n",
        "\n",
        "    Returns:\n",
        "    list: A list of strings where each string represents a row of the triangle.\n",
        "    \"\"\"\n",
        "    triangle= []\n",
        "    for i in range(1, n+1):\n",
        "        # Create a row with the digit i repeated i times\n",
        "        row = str(i) * i\n",
        "        # Add the row to the list\n",
        "        triangle.append(row)\n",
        "\n",
        "    # Return the list of rows\n",
        "    return triangle\n"
      ],
      "metadata": {
        "id": "MR9adWGPsI4C"
      },
      "execution_count": 4,
      "outputs": []
    },
    {
      "cell_type": "code",
      "source": [
        "def generate_floyds_triangle(n):\n",
        "    \"\"\"\n",
        "    Function to return the first n rows of Floyd's Triangle as a list of strings.\n",
        "\n",
        "    Parameters:\n",
        "    n (int): The number of rows in the triangle.\n",
        "\n",
        "    Returns:\n",
        "    list: A list of strings where each string represents a row of Floyd's Triangle.\n",
        "    \"\"\"\n",
        "    triangle = []\n",
        "\n",
        "    # Initialize the first number to be used in the triangle\n",
        "    current_num = 1\n",
        "\n",
        "    # Loop through each row from 1 to n\n",
        "    for i in range(1, n + 1):\n",
        "        # Create a row by collecting the next i numbers\n",
        "        row = ' '.join(str(current_num + j) for j in range(i))\n",
        "        # Append the row to the list\n",
        "        triangle.append(row)\n",
        "        # Update the current number for the next row\n",
        "        current_num += i\n",
        "\n",
        "    # Return the list of rows\n",
        "    return triangle\n"
      ],
      "metadata": {
        "id": "wDrAy8ZStMxj"
      },
      "execution_count": 5,
      "outputs": []
    },
    {
      "cell_type": "code",
      "source": [
        "def generate_diamond(n):\n",
        "    \"\"\"\n",
        "    Function to return a diamond pattern of '*' of side n as a list of strings.\n",
        "\n",
        "    Parameters:\n",
        "    n (int): The number of rows for the upper part of the diamond.\n",
        "\n",
        "    Returns:\n",
        "    list: A list of strings where each string represents a row of the diamond.\n",
        "    \"\"\"\n",
        "    diamond = []\n",
        "\n",
        "    # Generate the upper part of the diamond (including the middle row)\n",
        "    for i in range(1, n + 1):\n",
        "        # Number of stars in the current row is 2 * i - 1\n",
        "        stars = '*' * (2 * i - 1)\n",
        "        # Number of leading spaces to center the stars is n - i\n",
        "        spaces = ' ' * (n - i)\n",
        "        # Add the centered row to the list\n",
        "        diamond.append(spaces + stars + spaces)\n",
        "\n",
        "    # Generate the lower part of the diamond (mirrored upper part without the middle row)\n",
        "    for i in range(n - 1, 0, -1):\n",
        "        # Number of stars in the current row is 2 * i - 1\n",
        "        stars = '*' * (2 * i - 1)\n",
        "        # Number of leading spaces to center the stars is n - i\n",
        "        spaces = ' ' * (n - i)\n",
        "        # Add the centered row to the list\n",
        "        diamond.append(spaces + stars + spaces)\n",
        "\n",
        "    # Return the list of diamond rows\n",
        "    return diamond\n"
      ],
      "metadata": {
        "id": "P0_6TT4Pt7Bu"
      },
      "execution_count": 6,
      "outputs": []
    },
    {
      "cell_type": "code",
      "source": [
        "def generate_right_angled_triangle(n):\n",
        "    \"\"\"\n",
        "    Function to return a right-angled triangle of '*' of side n as a list of strings.\n",
        "\n",
        "    Parameters:\n",
        "    n (int): The height of the triangle.\n",
        "\n",
        "    Returns:\n",
        "    list: A list of strings where each string represents a row of the triangle.\n",
        "    \"\"\"\n",
        "    triangle = []\n",
        "\n",
        "    # Loop through each row from 1 to n\n",
        "    for i in range(1, n + 1):\n",
        "        # Number of leading spaces is n - i\n",
        "        spaces = ' ' * (n - i)\n",
        "        # Number of stars is i\n",
        "        stars = '*' * i\n",
        "        # Add the right-aligned row to the list\n",
        "        triangle.append(spaces + stars)\n",
        "\n",
        "    # Return the list of rows\n",
        "    return triangle\n"
      ],
      "metadata": {
        "id": "yecj1l6yvpq7"
      },
      "execution_count": 7,
      "outputs": []
    },
    {
      "cell_type": "code",
      "source": [
        "def generate_sandglass(n):\n",
        "    \"\"\"\n",
        "    Function to return a sandglass pattern of '*' of side n as a list of strings.\n",
        "\n",
        "    Parameters:\n",
        "    n (int): The height of the sandglass.\n",
        "\n",
        "    Returns:\n",
        "    list: A list of strings where each string represents a row of the sandglass pattern.\n",
        "    \"\"\"\n",
        "    sandglass = []\n",
        "\n",
        "    # Create the upper half of the sandglass (including the narrowest row)\n",
        "    for i in range(n):\n",
        "        # Calculate the number of stars: 2 * (n - i) - 1\n",
        "        stars = '*' * (2 * (n - i) - 1)\n",
        "        # Calculate the number of leading spaces to center the stars\n",
        "        spaces = ' ' * i\n",
        "        # Add the centered row to the list\n",
        "        sandglass.append(spaces + stars + spaces)\n",
        "\n",
        "    # Create the lower half of the sandglass (excluding the narrowest row)\n",
        "    for i in range(n - 1):\n",
        "        # Calculate the number of stars: 2 * (i + 1) + 1\n",
        "        stars = '*' * (2 * (i + 1) + 1)\n",
        "        # Calculate the number of leading spaces for the lower half\n",
        "        spaces = ' ' * (n - i - 2)\n",
        "        # Add the centered row to the list, ensuring proper spacing\n",
        "        sandglass.append(spaces + stars + spaces)\n",
        "\n",
        "    # Return the list of sandglass rows\n",
        "    return sandglass\n"
      ],
      "metadata": {
        "id": "er7MpNIUwEfM"
      },
      "execution_count": 8,
      "outputs": []
    },
    {
      "cell_type": "code",
      "source": [
        "def generate_hollow_right_angled_triangle(n):\n",
        "    \"\"\"\n",
        "    Function to return a hollow right-angled triangle of '*' of side n as a list of strings.\n",
        "\n",
        "    Parameters:\n",
        "    n (int): The height of the triangle.\n",
        "\n",
        "    Returns:\n",
        "    list: A list of strings where each string represents a row of the triangle.\n",
        "    \"\"\"\n",
        "    triangle = []\n",
        "\n",
        "    # Loop through each row from 1 to n\n",
        "    for i in range(1, n + 1):\n",
        "        # For the first row, just add one star\n",
        "        if i == 1:\n",
        "            triangle.append('*')\n",
        "        # For the last row, add 'n' stars\n",
        "        elif i == n:\n",
        "            triangle.append('*' * n)\n",
        "        # For the intermediate rows, add a star, spaces, and another star\n",
        "        else:\n",
        "            # Add the row: one star, and one star\n",
        "            triangle.append('*' + ' ' * (i - 2) + '*')\n",
        "\n",
        "    # Return the list of triangle rows\n",
        "    return triangle\n"
      ],
      "metadata": {
        "id": "zR2kwrNqwVvA"
      },
      "execution_count": 9,
      "outputs": []
    },
    {
      "cell_type": "code",
      "source": [
        "def generate_hollow_inverted_right_angled_triangle(n):\n",
        "    \"\"\"\n",
        "    Function to return a hollow inverted right-angled triangle of '*' of side n as a list of strings.\n",
        "\n",
        "    Parameters:\n",
        "    n (int): The height of the triangle.\n",
        "\n",
        "    Returns:\n",
        "    list: A list of strings where each string represents a row of the triangle.\n",
        "    \"\"\"\n",
        "    triangle = []\n",
        "\n",
        "    # Loop through each row from n to 1\n",
        "    for i in range(n, 0, -1):\n",
        "        # For the first row, just add 'n' stars\n",
        "        if i == n:\n",
        "            triangle.append('*' * n)\n",
        "        # For the last row, add a single star\n",
        "        elif i == 1:\n",
        "            triangle.append('*')\n",
        "        # For the intermediate rows, add a star, spaces, and another star\n",
        "        else:\n",
        "            # Add a star, spaces, and another star\n",
        "            spaces = ' ' * (i - 2)\n",
        "            triangle.append('*' + spaces + '*')\n",
        "\n",
        "    # Return the list of triangle rows\n",
        "    return triangle\n"
      ],
      "metadata": {
        "id": "ImjUmkuDw0OM"
      },
      "execution_count": 10,
      "outputs": []
    },
    {
      "cell_type": "code",
      "source": [
        "def generate_number_pyramid(n):\n",
        "    \"\"\"\n",
        "    Function to return a pyramid pattern of numbers of height n as a list of strings.\n",
        "\n",
        "    Parameters:\n",
        "    n (int): The height of the pyramid.\n",
        "\n",
        "    Returns:\n",
        "    list: A list of strings where each string represents a row of the pyramid pattern.\n",
        "    \"\"\"\n",
        "    pyramid = []\n",
        "\n",
        "    # Loop through each row from 1 to n\n",
        "    for i in range(1, n + 1):\n",
        "        # Create leading spaces for centering the numbers\n",
        "        spaces = ' ' * (n - i)\n",
        "        # Create a string of numbers from 1 to i, joined by spaces\n",
        "        numbers = ' '.join(str(x) for x in range(1, i + 1))\n",
        "        # Add the row with spaces and numbers to the pyramid\n",
        "        pyramid.append(spaces + numbers + spaces)\n",
        "\n",
        "    # Return the list of pyramid rows\n",
        "    return pyramid\n"
      ],
      "metadata": {
        "id": "w-uPJQWLxF2I"
      },
      "execution_count": 11,
      "outputs": []
    },
    {
      "cell_type": "code",
      "source": [],
      "metadata": {
        "id": "i4kKqI20xYW1"
      },
      "execution_count": null,
      "outputs": []
    }
  ]
}