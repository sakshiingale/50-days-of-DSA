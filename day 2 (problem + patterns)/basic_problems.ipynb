{
  "nbformat": 4,
  "nbformat_minor": 0,
  "metadata": {
    "colab": {
      "provenance": []
    },
    "kernelspec": {
      "name": "python3",
      "display_name": "Python 3"
    },
    "language_info": {
      "name": "python"
    }
  },
  "cells": [
    {
      "cell_type": "code",
      "execution_count": 7,
      "metadata": {
        "colab": {
          "base_uri": "https://localhost:8080/"
        },
        "id": "27scEyIEuIIR",
        "outputId": "fdd52df7-1797-47a2-8294-ce83541621d6"
      },
      "outputs": [
        {
          "output_type": "stream",
          "name": "stdout",
          "text": [
            "121 is a palindrome.\n"
          ]
        }
      ],
      "source": [
        "# 1. Palindrome check\n",
        "def is_palindrome(s):\n",
        "    s = str(s)  # convert to string for easy comparison\n",
        "    return s == s[::-1]\n",
        "\n",
        "num = 121\n",
        "if is_palindrome(num):\n",
        "    print(f\"{num} is a palindrome.\")\n",
        "else:\n",
        "    print(f\"{num} is not a palindrome.\")"
      ]
    },
    {
      "cell_type": "code",
      "source": [
        "# 2. Prime number check\n",
        "def is_prime(n):\n",
        "    if n <= 1:\n",
        "        return False\n",
        "    for i in range(2, int(n ** 0.5) + 1):\n",
        "        if n % i == 0:\n",
        "            return False\n",
        "    return True\n",
        "\n",
        "num = 29\n",
        "if is_prime(num):\n",
        "    print(f\"{num} is a prime number.\")\n",
        "else:\n",
        "    print(f\"{num} is not a prime number.\")"
      ],
      "metadata": {
        "colab": {
          "base_uri": "https://localhost:8080/"
        },
        "id": "rR0Iu-iaApaJ",
        "outputId": "9d2ae413-a814-4f46-f4eb-c0c96cd8012d"
      },
      "execution_count": 6,
      "outputs": [
        {
          "output_type": "stream",
          "name": "stdout",
          "text": [
            "29 is a prime number.\n"
          ]
        }
      ]
    },
    {
      "cell_type": "code",
      "source": [
        "# 3. Armstrong number check\n",
        "def is_armstrong(n):\n",
        "    digits = str(n)\n",
        "    power = len(digits)\n",
        "    total = sum(int(d) ** power for d in digits)\n",
        "    return total == n\n",
        "\n",
        "num = 153\n",
        "if is_armstrong(num):\n",
        "    print(f\"{num} is an Armstrong number.\")\n",
        "else:\n",
        "    print(f\"{num} is not an Armstrong number.\")"
      ],
      "metadata": {
        "colab": {
          "base_uri": "https://localhost:8080/"
        },
        "id": "A9skkulqAplp",
        "outputId": "5b51204e-7d95-4a86-89dc-c18402c7627d"
      },
      "execution_count": 3,
      "outputs": [
        {
          "output_type": "stream",
          "name": "stdout",
          "text": [
            "153 is an Armstrong number.\n"
          ]
        }
      ]
    },
    {
      "cell_type": "code",
      "source": [
        "# 4. Even or Odd\n",
        "def even_or_odd(n):\n",
        "    return \"Even\" if n % 2 == 0 else \"Odd\"\n",
        "\n",
        "num = 42\n",
        "print(f\"{num} is {even_or_odd(num)}.\")"
      ],
      "metadata": {
        "colab": {
          "base_uri": "https://localhost:8080/"
        },
        "id": "3A5Lb8MMApop",
        "outputId": "c491897f-6397-494e-d149-9432bc4b811f"
      },
      "execution_count": 4,
      "outputs": [
        {
          "output_type": "stream",
          "name": "stdout",
          "text": [
            "42 is Even.\n"
          ]
        }
      ]
    },
    {
      "cell_type": "code",
      "source": [
        "# 5. Positive or Negative\n",
        "def positive_or_negative(n):\n",
        "    if n > 0:\n",
        "        return \"Positive\"\n",
        "    elif n < 0:\n",
        "        return \"Negative\"\n",
        "    else:\n",
        "        return \"Zero\"\n",
        "\n",
        "num = -5\n",
        "print(f\"{num} is {positive_or_negative(num)}.\")"
      ],
      "metadata": {
        "colab": {
          "base_uri": "https://localhost:8080/"
        },
        "id": "1PR1jYbkAprd",
        "outputId": "c2cffc72-f1c9-40a9-c948-70c3c920105d"
      },
      "execution_count": 5,
      "outputs": [
        {
          "output_type": "stream",
          "name": "stdout",
          "text": [
            "-5 is Negative.\n"
          ]
        }
      ]
    },
    {
      "cell_type": "code",
      "source": [
        "# 6. Sum of numbers (from 1 to n)\n",
        "def sum_of_numbers(n):\n",
        "    return sum(range(1, n + 1))\n",
        "\n",
        "n = 10\n",
        "print(f\"Sum of numbers from 1 to {n} is {sum_of_numbers(n)}\")"
      ],
      "metadata": {
        "colab": {
          "base_uri": "https://localhost:8080/"
        },
        "id": "YrmdXMCTApuU",
        "outputId": "ead8b385-5601-4301-b9c0-3b07e1077e8e"
      },
      "execution_count": 8,
      "outputs": [
        {
          "output_type": "stream",
          "name": "stdout",
          "text": [
            "Sum of numbers from 1 to 10 is 55\n"
          ]
        }
      ]
    },
    {
      "cell_type": "code",
      "source": [
        "# 7. Greatest of 2 numbers\n",
        "def greatest_of_two(a, b):\n",
        "    return a if a > b else b\n",
        "\n",
        "a, b = 12, 25\n",
        "print(f\"Greatest of {a} and {b} is {greatest_of_two(a, b)}\")"
      ],
      "metadata": {
        "colab": {
          "base_uri": "https://localhost:8080/"
        },
        "id": "sxVvWx_NApxP",
        "outputId": "958bf444-4796-47cd-9a3d-b95c3cf842ff"
      },
      "execution_count": 10,
      "outputs": [
        {
          "output_type": "stream",
          "name": "stdout",
          "text": [
            "Greatest of 12 and 25 is 25\n"
          ]
        }
      ]
    },
    {
      "cell_type": "code",
      "source": [
        "# 8. Greatest of 3 numbers\n",
        "def greatest_of_three(a, b, c):\n",
        "    return max(a, b, c)\n",
        "\n",
        "a, b, c = 45, 23, 67\n",
        "print(f\"Greatest of {a}, {b}, {c} is {greatest_of_three(a, b, c)}\")"
      ],
      "metadata": {
        "colab": {
          "base_uri": "https://localhost:8080/"
        },
        "id": "B4Eq-zRbAp0C",
        "outputId": "c70c6732-9c65-45e5-ece1-2bb801254e2e"
      },
      "execution_count": 11,
      "outputs": [
        {
          "output_type": "stream",
          "name": "stdout",
          "text": [
            "Greatest of 45, 23, 67 is 67\n"
          ]
        }
      ]
    },
    {
      "cell_type": "code",
      "source": [
        "# 9. Reverse the digits of a number\n",
        "def reverse_digits(n):\n",
        "    return int(str(n)[::-1])\n",
        "\n",
        "n = 12345\n",
        "print(f\"Reverse of {n} is {reverse_digits(n)}\")"
      ],
      "metadata": {
        "colab": {
          "base_uri": "https://localhost:8080/"
        },
        "id": "ABSrFleNAp2z",
        "outputId": "de1c0666-4284-4e72-aec1-75b5cd559332"
      },
      "execution_count": 12,
      "outputs": [
        {
          "output_type": "stream",
          "name": "stdout",
          "text": [
            "Reverse of 12345 is 54321\n"
          ]
        }
      ]
    },
    {
      "cell_type": "code",
      "source": [
        "# 10. Fibonacci series (first n terms)\n",
        "def fibonacci(n):\n",
        "    sequence = []\n",
        "    a, b = 0, 1\n",
        "    for _ in range(n):\n",
        "        sequence.append(a)\n",
        "        a, b = b, a + b\n",
        "    return sequence\n",
        "\n",
        "n = 7\n",
        "print(f\"First {n} Fibonacci numbers: {fibonacci(n)}\")"
      ],
      "metadata": {
        "colab": {
          "base_uri": "https://localhost:8080/"
        },
        "id": "q5e-a2YnAp43",
        "outputId": "4e486e2b-e6e2-4e38-d801-051271dd1dae"
      },
      "execution_count": 13,
      "outputs": [
        {
          "output_type": "stream",
          "name": "stdout",
          "text": [
            "First 7 Fibonacci numbers: [0, 1, 1, 2, 3, 5, 8]\n"
          ]
        }
      ]
    },
    {
      "cell_type": "code",
      "source": [
        "# 11. Factorial of a number\n",
        "def factorial(n):\n",
        "    if n == 0 or n == 1:\n",
        "        return 1\n",
        "    fact = 1\n",
        "    for i in range(2, n + 1):\n",
        "        fact *= i\n",
        "    return fact\n",
        "\n",
        "n = 5\n",
        "print(f\"Factorial of {n} is {factorial(n)}\")"
      ],
      "metadata": {
        "colab": {
          "base_uri": "https://localhost:8080/"
        },
        "id": "t9aJOtS1Ap8T",
        "outputId": "a7c60fee-b5a1-485c-bc4e-7313cbfd0c7a"
      },
      "execution_count": 14,
      "outputs": [
        {
          "output_type": "stream",
          "name": "stdout",
          "text": [
            "Factorial of 5 is 120\n"
          ]
        }
      ]
    },
    {
      "cell_type": "code",
      "source": [
        "# 12. Power of a number\n",
        "def power_of_number(base, exponent):\n",
        "    return base ** exponent\n",
        "\n",
        "\n",
        "base, exponent = 2, 5\n",
        "print(f\"{base} raised to the power {exponent} is {power_of_number(base, exponent)}\")"
      ],
      "metadata": {
        "colab": {
          "base_uri": "https://localhost:8080/"
        },
        "id": "bRe6aLRzC61k",
        "outputId": "e024c55a-d783-425f-cbc6-97b2dfaaa504"
      },
      "execution_count": 15,
      "outputs": [
        {
          "output_type": "stream",
          "name": "stdout",
          "text": [
            "2 raised to the power 5 is 32\n"
          ]
        }
      ]
    },
    {
      "cell_type": "code",
      "source": [
        "# 13. GCD (Greatest Common Divisor)\n",
        "def gcd(a, b):\n",
        "    while b:\n",
        "        a, b = b, a % b\n",
        "    return a\n",
        "\n",
        "a, b = 48, 18\n",
        "print(f\"GCD of {a} and {b} is {gcd(a, b)}\")"
      ],
      "metadata": {
        "colab": {
          "base_uri": "https://localhost:8080/"
        },
        "id": "hrWh8FC1DP13",
        "outputId": "2262421e-db17-4021-bb76-5fcb81b03659"
      },
      "execution_count": 16,
      "outputs": [
        {
          "output_type": "stream",
          "name": "stdout",
          "text": [
            "GCD of 48 and 18 is 6\n"
          ]
        }
      ]
    },
    {
      "cell_type": "code",
      "source": [
        "# 14. LCM (Least Common Multiple)\n",
        "def lcm(a, b):\n",
        "    return abs(a * b) // gcd(a, b)\n",
        "\n",
        "a, b = 12, 15\n",
        "print(f\"LCM of {a} and {b} is {lcm(a, b)}\")"
      ],
      "metadata": {
        "colab": {
          "base_uri": "https://localhost:8080/"
        },
        "id": "cxFniRsNDYGp",
        "outputId": "ffba42dc-f774-4614-87df-2d98e438a423"
      },
      "execution_count": 17,
      "outputs": [
        {
          "output_type": "stream",
          "name": "stdout",
          "text": [
            "LCM of 12 and 15 is 60\n"
          ]
        }
      ]
    },
    {
      "cell_type": "code",
      "source": [
        "# 15. Square root\n",
        "def square_root(n):\n",
        "    return n ** 0.5  # or use math.sqrt(n)\n",
        "n = 49\n",
        "print(f\"Square root of {n} is {square_root(n)}\")"
      ],
      "metadata": {
        "colab": {
          "base_uri": "https://localhost:8080/"
        },
        "id": "fP8j2uyrDc0G",
        "outputId": "ab47555d-55cd-499a-8e81-5b794924ed20"
      },
      "execution_count": 18,
      "outputs": [
        {
          "output_type": "stream",
          "name": "stdout",
          "text": [
            "Square root of 49 is 7.0\n"
          ]
        }
      ]
    },
    {
      "cell_type": "code",
      "source": [
        "# 16. Prime factors of a number\n",
        "def prime_factors(n):\n",
        "    factors = []\n",
        "    divisor = 2\n",
        "    while n > 1:\n",
        "        while n % divisor == 0:\n",
        "            factors.append(divisor)\n",
        "            n //= divisor\n",
        "        divisor += 1\n",
        "    return factors\n",
        "\n",
        "n = 84\n",
        "print(f\"Prime factors of {n} are {prime_factors(n)}\")"
      ],
      "metadata": {
        "colab": {
          "base_uri": "https://localhost:8080/"
        },
        "id": "zaTq0L4IDhe4",
        "outputId": "0be7eb55-c54a-4284-9fb1-1669fbc6297e"
      },
      "execution_count": 19,
      "outputs": [
        {
          "output_type": "stream",
          "name": "stdout",
          "text": [
            "Prime factors of 84 are [2, 2, 3, 7]\n"
          ]
        }
      ]
    },
    {
      "cell_type": "code",
      "source": [],
      "metadata": {
        "id": "bGIUKoXjDm__"
      },
      "execution_count": null,
      "outputs": []
    }
  ]
}