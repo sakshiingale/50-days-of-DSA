{
  "nbformat": 4,
  "nbformat_minor": 0,
  "metadata": {
    "colab": {
      "provenance": []
    },
    "kernelspec": {
      "name": "python3",
      "display_name": "Python 3"
    },
    "language_info": {
      "name": "python"
    }
  },
  "cells": [
    {
      "cell_type": "code",
      "execution_count": null,
      "metadata": {
        "id": "ol-8rbwP451x"
      },
      "outputs": [],
      "source": [
        "def calculate_lift_rounds(n, capacity):\n",
        "    \"\"\"\n",
        "    Function to calculate the number of rounds the lift needs to cover.\n",
        "\n",
        "    Parameters:\n",
        "    n (int): Total number of people.\n",
        "    capacity (int): Maximum number of people the lift can carry in one round.\n",
        "\n",
        "    Returns:\n",
        "    int: The number of rounds required to transport all people to the top floor.\n",
        "    \"\"\"\n",
        "    # Divide total people by the capacity to get full rounds\n",
        "    full_rounds = n // capacity\n",
        "\n",
        "    # If there are any remaining people, add one more round\n",
        "    if n % capacity != 0:\n",
        "        return full_rounds + 1\n",
        "    else:\n",
        "        return full_rounds\n"
      ]
    },
    {
      "cell_type": "code",
      "source": [
        "def sum_list(numbers):\n",
        "    total = 0\n",
        "\n",
        "    # Iterate through each number in the list\n",
        "    for num in numbers:\n",
        "        # Add the current number to the total\n",
        "        total += num\n",
        "\n",
        "    # Return the final sum\n",
        "    return total"
      ],
      "metadata": {
        "id": "3JwwzZQm46k1"
      },
      "execution_count": 1,
      "outputs": []
    },
    {
      "cell_type": "code",
      "source": [
        "def find_largest(numbers):\n",
        "    # Check if the list is empty\n",
        "    if not numbers:\n",
        "        return None  # or raise an exception, depending on requirements\n",
        "\n",
        "    # Initialize the largest number as the first element\n",
        "    largest = numbers[0]\n",
        "\n",
        "    # Iterate through the list starting from the second element\n",
        "    for num in numbers[1:]:\n",
        "        # If we find a number larger than our current largest, update largest\n",
        "        if num > largest:\n",
        "            largest = num\n",
        "\n",
        "    return largest\n",
        "\n",
        "# Alternative solution using built-in max() function:\n",
        "# def find_largest(numbers):\n",
        "#     return max(numbers) if numbers else None"
      ],
      "metadata": {
        "id": "kmt1iNu8jOtc"
      },
      "execution_count": 2,
      "outputs": []
    },
    {
      "cell_type": "code",
      "source": [
        "def remove_duplicates(lst):\n",
        "    unique_list = []\n",
        "    for item in lst:\n",
        "        # Check if the item is already in the unique_list\n",
        "        if item not in unique_list:\n",
        "            unique_list.append(item)\n",
        "    return unique_list\n",
        "\n"
      ],
      "metadata": {
        "id": "KRIfIFJdkJPk"
      },
      "execution_count": 3,
      "outputs": []
    },
    {
      "cell_type": "code",
      "source": [
        "def check_unique(lst):\n",
        "    # Initialize an empty set to keep track of seen elements\n",
        "    seen = set()\n",
        "\n",
        "    # Iterate through each element in the input list\n",
        "    for num in lst:\n",
        "        # If the element has been seen before, return False\n",
        "        if num in seen:\n",
        "            return False\n",
        "        # Add the element to the seen set\n",
        "        seen.add(num)\n",
        "\n",
        "    # If no duplicates are found, return True\n",
        "    return True\n"
      ],
      "metadata": {
        "id": "N8OhcNXFlvSM"
      },
      "execution_count": 4,
      "outputs": []
    },
    {
      "cell_type": "code",
      "source": [
        "def reverse_list(lst):\n",
        "     # Initialize two pointers: one at the beginning, one at the end\n",
        "    start = 0\n",
        "    end = len(lst) - 1\n",
        "\n",
        "    # Swap elements until the two pointers meet in the middle\n",
        "    while start < end:\n",
        "        # Swap the elements at the start and end pointers\n",
        "        lst[start], lst[end] = lst[end], lst[start]\n",
        "        # Move the pointers towards the middle\n",
        "        start += 1\n",
        "        end -= 1\n",
        "\n",
        "    # Return the reversed list\n",
        "    return lst\n"
      ],
      "metadata": {
        "id": "G7mf6AIemIrs"
      },
      "execution_count": 5,
      "outputs": []
    },
    {
      "cell_type": "code",
      "source": [
        "def count_even_odd(lst):\n",
        "    # Initialize counters for even and odd numbers\n",
        "    even_count = 0\n",
        "    odd_count = 0\n",
        "\n",
        "    # Iterate through each number in the list\n",
        "    for num in lst:\n",
        "        if num % 2 == 0:  # Check if the number is even\n",
        "            even_count += 1\n",
        "        else:  # Otherwise, it's odd\n",
        "            odd_count += 1\n",
        "\n",
        "    # Return a tuple containing the counts of even and odd numbers\n",
        "    return even_count, odd_count\n"
      ],
      "metadata": {
        "id": "V8ucZ-JimdaI"
      },
      "execution_count": 6,
      "outputs": []
    },
    {
      "cell_type": "code",
      "source": [
        "def max_consecutive_difference(lst):\n",
        "    # Edge case: if the list is empty or has only one element, return 0\n",
        "    if len(lst) < 2:\n",
        "        return 0\n",
        "\n",
        "    max_diff = 0  # Initialize max difference as 0\n",
        "\n",
        "    # Iterate through the list to calculate consecutive differences\n",
        "    for i in range(1, len(lst)):\n",
        "        current_diff = abs(lst[i] - lst[i - 1])  # Calculate absolute difference\n",
        "        if current_diff > max_diff:  # Update max_diff if current_diff is greater\n",
        "            max_diff = current_diff\n",
        "\n",
        "    return max_diff  # Return the maximum difference\n"
      ],
      "metadata": {
        "id": "7GYJOjCvnRpD"
      },
      "execution_count": 7,
      "outputs": []
    },
    {
      "cell_type": "code",
      "source": [
        "def merge_two_sorted_lists(list1, list2):\n",
        "    # Initialize pointers for both lists\n",
        "    i, j = 0, 0\n",
        "    result = []  # Initialize an empty list to store the merged result\n",
        "\n",
        "    # Traverse both lists and merge them in sorted order\n",
        "    while i < len(list1) and j < len(list2):\n",
        "        if list1[i] < list2[j]:\n",
        "            result.append(list1[i])  # Add the smaller element to the result list\n",
        "            i += 1\n",
        "        else:\n",
        "            result.append(list2[j])  # Add the smaller element to the result list\n",
        "            j += 1\n",
        "\n",
        "    # If there are remaining elements in list1, add them to the result\n",
        "    while i < len(list1):\n",
        "        result.append(list1[i])\n",
        "        i += 1\n",
        "\n",
        "    # If there are remaining elements in list2, add them to the result\n",
        "    while j < len(list2):\n",
        "        result.append(list2[j])\n",
        "        j += 1\n",
        "\n",
        "    return result\n"
      ],
      "metadata": {
        "id": "5OXgZTtsnmJa"
      },
      "execution_count": 8,
      "outputs": []
    },
    {
      "cell_type": "code",
      "source": [
        "def rotate_list(lst, k):\n",
        "    # Handling the case where the list is empty\n",
        "    if not lst:\n",
        "        return []\n",
        "\n",
        "    # Modulo to handle the case where k is greater than the length of the list\n",
        "    k = k % len(lst)\n",
        "\n",
        "    # Brute force approach using loops\n",
        "    for _ in range(k):\n",
        "        last_element = lst.pop()  # Remove the last element\n",
        "        lst.insert(0, last_element)  # Insert it at the front\n",
        "\n",
        "    return lst\n"
      ],
      "metadata": {
        "id": "SMRZY22Op2Xc"
      },
      "execution_count": 9,
      "outputs": []
    },
    {
      "cell_type": "code",
      "source": [
        "def merge_lists_to_dictionary(keys, values):\n",
        "    # Boundary Condition to check for equal length of keys and values.\n",
        "    # Last point in problem solving framework :)\n",
        "    if(len(keys) != len(values)):\n",
        "        return False\n",
        "    # Create an empty dictionary to store the result\n",
        "    result = {}\n",
        "\n",
        "    # Use a loop to iterate through both lists\n",
        "    for i in range(len(keys)):\n",
        "        # Add each key-value pair to the dictionary\n",
        "        result[keys[i]] = values[i]\n",
        "\n",
        "    return result\n"
      ],
      "metadata": {
        "id": "999fa_mIqaHQ"
      },
      "execution_count": 10,
      "outputs": []
    },
    {
      "cell_type": "code",
      "source": [
        "def merge_three_dictionaries(dict1, dict2, dict3):\n",
        "    # Create a new dictionary that starts with the content of dict1\n",
        "    merged_dict = dict1.copy()\n",
        "\n",
        "    # Add the key-value pairs from dict2\n",
        "    for key, value in dict2.items():\n",
        "        merged_dict[key] = value\n",
        "\n",
        "    # Add the key-value pairs from dict3\n",
        "    for key, value in dict3.items():\n",
        "        merged_dict[key] = value\n",
        "\n",
        "    return merged_dict\n"
      ],
      "metadata": {
        "id": "ayzMD-XVqxPu"
      },
      "execution_count": 11,
      "outputs": []
    },
    {
      "cell_type": "code",
      "source": [
        "def count_word_frequency(sentence):\n",
        "    word_count = {}\n",
        "\n",
        "    # Split the sentence into words using space as the delimiter\n",
        "    words = sentence.split()\n",
        "\n",
        "    # Iterate through each word in the list of words\n",
        "    for word in words:\n",
        "        # If the word is already in the dictionary, increment its count\n",
        "        if word in word_count:\n",
        "            word_count[word] += 1\n",
        "        # If the word is not in the dictionary, add it with a count of 1\n",
        "        else:\n",
        "            word_count[word] = 1\n",
        "\n",
        "    return word_count\n"
      ],
      "metadata": {
        "id": "MAZYs7j1q_JN"
      },
      "execution_count": 12,
      "outputs": []
    },
    {
      "cell_type": "code",
      "source": [
        "def is_palindromic_tuple(tup):\n",
        "    # Initialize pointers for the start and end of the tuple\n",
        "    start = 0\n",
        "    end = len(tup) - 1\n",
        "\n",
        "    # Loop until the start pointer is less than or equal to the end pointer\n",
        "    while start <= end:\n",
        "        # If elements at start and end pointers are not equal, it's not a palindrome\n",
        "        if tup[start] != tup[end]:\n",
        "            return False\n",
        "        # Move the pointers towards the center\n",
        "        start += 1\n",
        "        end -= 1\n",
        "\n",
        "    # If all elements matched, it is a palindrome\n",
        "    return True\n"
      ],
      "metadata": {
        "id": "WOwLm-2crShA"
      },
      "execution_count": 13,
      "outputs": []
    },
    {
      "cell_type": "code",
      "source": [
        "def merge_dicts_with_overlapping_keys(dicts):\n",
        "    result = {}\n",
        "\n",
        "    # Loop through each dictionary in the list\n",
        "    for d in dicts:\n",
        "        # Loop through each key-value pair in the current dictionary\n",
        "        for key, value in d.items():\n",
        "            # If the key is already in the result dictionary, add the new value to the existing value\n",
        "            if key in result:\n",
        "                result[key] += value\n",
        "            # Otherwise, add the key-value pair to the result dictionary\n",
        "            else:\n",
        "                result[key] = value\n",
        "\n",
        "    return result\n"
      ],
      "metadata": {
        "id": "UvLw6kSerjHW"
      },
      "execution_count": 14,
      "outputs": []
    },
    {
      "cell_type": "code",
      "source": [
        "def is_subset(lst1, lst2):\n",
        "    # Iterate through each element of lst1\n",
        "    for element in lst1:\n",
        "        found = False  # Flag to check if element is found in lst2\n",
        "        # Check each element of lst2\n",
        "        for item in lst2:\n",
        "            if item == element:  # Compare each element\n",
        "                found = True\n",
        "                break\n",
        "        if not found:  # If any element from lst1 is not found in lst2, return False\n",
        "            return False\n",
        "    return True  # If all elements in lst1 are found, return True\n"
      ],
      "metadata": {
        "id": "jXyUlt_eryhj"
      },
      "execution_count": 15,
      "outputs": []
    },
    {
      "cell_type": "code",
      "source": [],
      "metadata": {
        "id": "V-QH4A8dsI7_"
      },
      "execution_count": null,
      "outputs": []
    }
  ]
}